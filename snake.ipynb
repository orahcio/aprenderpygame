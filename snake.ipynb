{
 "cells": [
  {
   "attachments": {},
   "cell_type": "markdown",
   "metadata": {},
   "source": [
    "# Joguinho do snake\n",
    "\n",
    "Vamos escrever o jogo do snake, seguindo alguns passos de forma programática. Vá copinado e colando num arquivo <code>snake.py</code> cada trecho, ao final teremos o jogo clássico. Tente responder as perguntas feitas ao longo do documento."
   ]
  },
  {
   "attachments": {},
   "cell_type": "markdown",
   "metadata": {},
   "source": [
    "## Elementos prévios\n",
    "Antes de jogar é necessário saber o que irá jogar."
   ]
  },
  {
   "attachments": {},
   "cell_type": "markdown",
   "metadata": {},
   "source": [
    "### Importando as bibliotecas\n",
    "Descreva a necessidade de cada uma das bibliotecas importadas em cada linha"
   ]
  },
  {
   "cell_type": "code",
   "execution_count": 2,
   "metadata": {},
   "outputs": [],
   "source": [
    "import pygame\n",
    "from pygame.locals import *\n",
    "from sys import exit\n",
    "from random import randint"
   ]
  },
  {
   "attachments": {},
   "cell_type": "markdown",
   "metadata": {},
   "source": [
    "### Configurações globais do jogo"
   ]
  },
  {
   "cell_type": "code",
   "execution_count": 3,
   "metadata": {},
   "outputs": [],
   "source": [
    "# Paleta de cores\n",
    "VERMELHO = (255,0,0)\n",
    "VERDE = (0,255,0)\n",
    "AMARELO = (255,255,0)\n",
    "AZUL = (0,0,255)\n",
    "FUNDO = (255,255,255)\n",
    "PRETO = (0,0,0)\n",
    "\n",
    "# Dimensões da tela\n",
    "largura = 800\n",
    "altura = 640\n",
    "\n",
    "# Aresta do quadrado dos objetos\n",
    "a = 20\n",
    "\n",
    "# Dimensões reduzidas de acordo ao tamanho dos objetos\n",
    "l = int(largura/a)\n",
    "h = int(altura/a)"
   ]
  },
  {
   "attachments": {},
   "cell_type": "markdown",
   "metadata": {},
   "source": [
    "### Iniciando elementos do ``pygame``"
   ]
  },
  {
   "cell_type": "code",
   "execution_count": null,
   "metadata": {},
   "outputs": [],
   "source": [
    "# iniciar o pygame\n",
    "pygame.init()\n",
    "\n",
    "# Janela do game, relógio de controle de frames, fonte dos elementos textuais\n",
    "tela = pygame.display.set_mode((largura,altura))\n",
    "relogio = pygame.time.Clock()\n",
    "fonte = pygame.font.SysFont('Times',35,False,False)"
   ]
  },
  {
   "attachments": {},
   "cell_type": "markdown",
   "metadata": {},
   "source": [
    "### Definindo elementos do jogo, herói, obstáculos, moedas, etc.\n",
    "Descreva os dados armazenados no dicionário de controle, onde a cobra ficará inicialmente e onde a maçã estará inicialmente."
   ]
  },
  {
   "cell_type": "code",
   "execution_count": null,
   "metadata": {},
   "outputs": [],
   "source": [
    "# Controle de movimento\n",
    "controle = {\n",
    "    K_w: (0,-1),\n",
    "    K_s: (0,1),\n",
    "    K_a: (-1,0),\n",
    "    K_d: (1,0)\n",
    "    }\n",
    "\n",
    "snake = [(0,0)]\n",
    "maçã = (int(l/2),int(h/2))\n",
    "comprimento = 6\n",
    "pontos = 0"
   ]
  },
  {
   "attachments": {},
   "cell_type": "markdown",
   "metadata": {},
   "source": [
    "## _Looping_ principal"
   ]
  },
  {
   "attachments": {},
   "cell_type": "markdown",
   "metadata": {},
   "source": [
    "### Inicia o _loopping_ principal sempre controlando a passagem de tempo e pintando a tela"
   ]
  },
  {
   "cell_type": "code",
   "execution_count": null,
   "metadata": {},
   "outputs": [],
   "source": [
    "rodando = True\n",
    "while rodando:\n",
    "    # Início com relógio e pintando a tela com o fundo\n",
    "    relogio.tick(7)\n",
    "    tela.fill()"
   ]
  },
  {
   "attachments": {},
   "cell_type": "markdown",
   "metadata": {},
   "source": [
    "### Obtendo o evento no teclado (para mover o personagem) e fechamento da janela\n",
    "Compare o código de controle abaixo com a série de ifs que fizemos, existe alguma diferença? Esse é o bloco que obtém os comandos do personagem"
   ]
  },
  {
   "cell_type": "code",
   "execution_count": null,
   "metadata": {},
   "outputs": [],
   "source": [
    "    for evento in pygame.event.get():\n",
    "        if evento.type == QUIT:\n",
    "            rodando = False\n",
    "        if evento.type == KEYDOWN:\n",
    "            if evento.key in controle:\n",
    "                # i e j dependem do estado atual do snake menos o estado anterior\n",
    "                i,j = snake[-1][0]-snake[-2][0],snake[-1][1]-snake[-2][1]\n",
    "                # os novos i e j dependem do que foi pressionado pelo jogador\n",
    "                il,jl = controle[evento.key]\n",
    "                e = i*il+j*jl\n",
    "                e *= e\n",
    "                # finalmente o vetor que irá deslocar o snake \n",
    "                v = (i-il)*e+il, (j-jl)*e+jl"
   ]
  },
  {
   "attachments": {},
   "cell_type": "markdown",
   "metadata": {},
   "source": [
    "### Bloco para trabalhar a dinâmica do jogo a partir das informações obtdas no controle, bloco anterior"
   ]
  },
  {
   "cell_type": "code",
   "execution_count": null,
   "metadata": {},
   "outputs": [],
   "source": [
    "\n",
    "    # As novas coordenadas do snake é a última posição mais o vetor deslocamento\n",
    "    i = (snake[-1][0] + v[0])%l\n",
    "    j = (snake[-1][1] + v[1])%h\n",
    "\n",
    "    # Se ela acertar a própria cauda morre\n",
    "    if (i,j) in snake:\n",
    "        rodando = False\n",
    "    \n",
    "    # Crescimento do snake\n",
    "    snake.append((i,j))\n",
    "\n",
    "    # Colidindo\n",
    "    if maçã == (i,j):\n",
    "        comprimento += 1\n",
    "        pontos += 1\n",
    "        maçã = randint(0,l-1),randint(0,h-1)\n",
    "        while maçã in snake:\n",
    "            maçã = randint(0,l-1),randint(0,h-1)\n",
    "\n",
    "    # desenhar maçã e snake\n",
    "    x,y = maçã\n",
    "    pygame.draw.rect(tela,VERMELHO,(x*a,y*a,a,a))\n",
    "    for i,j in snake:\n",
    "        pygame.draw.rect(tela,VERDE,(i*a,j*a,a,a))\n",
    "    \n",
    "    # limita o tamanho do snake\n",
    "    if len(snake) > comprimento:\n",
    "        snake.pop(0)\n",
    "\n",
    "    # Atualiza o placar\n",
    "    mensage = f'Pontos: {pontos}'\n",
    "    placar = fonte.render(mensage,True,PRETO)\n",
    "    tela.blit(placar,(500,0))\n",
    "\n",
    "    # Atualiza a tela\n",
    "    pygame.display.flip()"
   ]
  },
  {
   "attachments": {},
   "cell_type": "markdown",
   "metadata": {},
   "source": [
    "## Game Over"
   ]
  },
  {
   "cell_type": "code",
   "execution_count": null,
   "metadata": {},
   "outputs": [],
   "source": [
    "pygame.quit()\n",
    "exit()"
   ]
  },
  {
   "attachments": {},
   "cell_type": "markdown",
   "metadata": {},
   "source": [
    "Faça a versão com veneno que encolhe o snake e mata caso o tamanho fique menor que o inicial."
   ]
  }
 ],
 "metadata": {
  "kernelspec": {
   "display_name": "Python 3",
   "language": "python",
   "name": "python3"
  },
  "language_info": {
   "codemirror_mode": {
    "name": "ipython",
    "version": 3
   },
   "file_extension": ".py",
   "mimetype": "text/x-python",
   "name": "python",
   "nbconvert_exporter": "python",
   "pygments_lexer": "ipython3",
   "version": "3.10.10"
  },
  "orig_nbformat": 4
 },
 "nbformat": 4,
 "nbformat_minor": 2
}
