{
 "cells": [
  {
   "attachments": {},
   "cell_type": "markdown",
   "metadata": {},
   "source": [
    "# Criando o jogo do dinossauro\n",
    "\n",
    "Vamos inicialmente utilizar o conceito de _sprites_ que nada mais é do que os quadros que irão animar o personagem do jogo. Tais quadros iremos chamá-los na classe que designará cada elemento que irá aparecer na tela. Começaremos com a classe do herói (o dinossauro ou qualquer boneco que faça o papel dele no jogo)."
   ]
  },
  {
   "cell_type": "code",
   "execution_count": 10,
   "metadata": {},
   "outputs": [],
   "source": [
    "# Antes de qualquer coisa temos que fazer o import da biblioteca\n",
    "import pygame\n",
    "from pygame.locals import *\n",
    "\n",
    "# Dimensões da tela\n",
    "SIZE = WIDTH, HEIGHT = 800, 640"
   ]
  },
  {
   "attachments": {},
   "cell_type": "markdown",
   "metadata": {},
   "source": [
    "Para fazermos personagens animados num jogo teremos sempre que criar uma classe com os atributos desse personagem e ela sempre será uma classe herdeira de ``pygame.sprite.Sprites``, esse é o motivo para que esse objeto apareça entre parêntesis ao definir a classe de um elemento do nosso jogo."
   ]
  },
  {
   "cell_type": "code",
   "execution_count": 11,
   "metadata": {},
   "outputs": [],
   "source": [
    "class Boneco(pygame.sprite.Sprite):\n",
    "    # Essas duas linhas sempre serão usadas ao definir uma classe para o pygame\n",
    "    def __init__(self):\n",
    "        super(Boneco, self).__init__()\n",
    "\n",
    "        # o atributo images dessa classe contém uma lista com todas as imagens\n",
    "        # sempre abrimos elas com o método load\n",
    "        self.images = [pygame.image.load(f'images/walk{i}.png') for i in range(1,11)]\n",
    "        # a linha acima pode ser substituída por\n",
    "        self.images = [] # iniciar uma lista vazia\n",
    "        self.images.append(pygame.image.load(f'images/walk1.png')) # adiciona a primeira imagem a lista\n",
    "        self.images.append(pygame.image.load(f'images/walk2.png')) # a segunda\n",
    "        self.images.append(pygame.image.load(f'images/walk3.png')) # ...\n",
    "        self.images.append(pygame.image.load(f'images/walk4.png'))\n",
    "        self.images.append(pygame.image.load(f'images/walk5.png'))\n",
    "        self.images.append(pygame.image.load(f'images/walk6.png'))\n",
    "        self.images.append(pygame.image.load(f'images/walk7.png'))\n",
    "        self.images.append(pygame.image.load(f'images/walk8.png'))\n",
    "        self.images.append(pygame.image.load(f'images/walk9.png'))\n",
    "        self.images.append(pygame.image.load(f'images/walk10.png')) # finalmente a décima\n",
    "        # escolha o método que achar mais adequado\n",
    "\n",
    "        self.index = 0 # atributo de índice \n",
    "        self.image = self.images[self.index] # imagem atual que será desenhada na tela\n",
    "        # para o retângulo que define onde o personagem está na tela  fornecemos quatro parâmteros\n",
    "        # posição x, posição y, largura do rtângulo e altura do retângulo\n",
    "        self.rect = pygame.Rect(5,112,150,198) # retângulo que irá compor o herói\n",
    "        # brinque um pouco principalmente mudando a posição x e y do personagem, y em específico define\n",
    "        # a posição do chão`\n",
    "\n",
    "        self.pulo = False # atributo útil para compor o pulo do personagem\n",
    "\n",
    "\n",
    "    # Esse método da classe permite executar o pulo do personagem\n",
    "    def jump(self):\n",
    "        # Esse método será acessado no jogo quando a tecla for pressionada\n",
    "        self.pulo = True # o atributo de pulo agora é verdadeiro, se ele está no pulo\n",
    "        self.t = 0 # atributo útil para dinâmica do salto\n",
    "\n",
    "\n",
    "    # Esse método\n",
    "    def update(self):\n",
    "\n",
    "        # essa primeira parte é genérica para qualquer objeto que será animado\n",
    "        self.index += 1 # avança pra próxima imagem\n",
    "        self.index %= 10 # mantém o índice sempre dentro do limite de 0 a 9 (dez imagens)\n",
    "        self.image = self.images[self.index] # seleciona a imagem que será exibida de acordo ao valor do índice\n",
    "        \n",
    "        # essa condicional ocorre quando há o acionamento do pulo\n",
    "        if self.pulo == True:\n",
    "            # dinâmica do salto\n",
    "            v0 = -25 # velocidade inicial negativa, sobe\n",
    "            g = 2 # gravidade positiva, puxa pra baixo\n",
    "            t = self.t # o tempo é acionado enquanto a dinâmica está ativa\n",
    "            self.rect.y += v0+g*t # a altura é incrementada de acordo a dinâmica de queda-livre\n",
    "            self.t += 1 # o tempo é incrementado em uma unidade\n",
    "            # o chão deve estar definido por um expressão condicional\n",
    "            if self.rect.y > 112: # if que define o chão\n",
    "                self.rect.y = 112 # o y do boneco tem que tá no mesmo valor quando ele foi definido\n",
    "                self.pulo = False # a dinâmica de salto é desligada\n",
    "                self.t = 0 # o cronômetro é zerado para aguardar o próximo salto"
   ]
  },
  {
   "attachments": {},
   "cell_type": "markdown",
   "metadata": {},
   "source": [
    "O _sprite_ que irá compor o chão usará uma técnica de animação um pouco diferente que é chamada de folha de _sprites_, isto é, uma imagem contendo todos os quadros de animação é carregada e as imagens são selecionadas a partir de subregiões daquela imagem. A classe possui uma estrutura básica semelhante a classe acima, só não terá uma dinâmica de movimento ao acinarmos alguma tecla de controle do jogo, afinal o chão se move como parte da dinâmica do jogo."
   ]
  },
  {
   "cell_type": "code",
   "execution_count": 12,
   "metadata": {},
   "outputs": [],
   "source": [
    "# a imagem deve ser carregada globalmente \n",
    "folhadeanimação = pygame.image.load('images/offline-sprite-2x-black.png')\n",
    "\n",
    "class Chao(pygame.sprite.Sprite):\n",
    "    # método de início da classe habitual\n",
    "    def __init__(self, x, xf) -> None: # aqui usamos parâmetros para passarmos ao criarmos os objetos\n",
    "        # x é a posição do chão na tela e xf é a posição da imagem que queremos pegar\n",
    "        # a imagem é bem grande e oferece muitas possibilidades de posição da imagem para variar o terreno\n",
    "        super(Chao, self).__init__()\n",
    "\n",
    "        # selecionar a subimagem da folha de sprites\n",
    "        # xf é a posição x em pixels para pegarmos a subimagem\n",
    "        # 102 é a coordenada y em pixel onde o chão está localizado, abra a imagem para conferir\n",
    "        # 803 é a largura da imagem selecionada\n",
    "        # 28 é a altura da seleção, se y=102, resta 28 pixels de altura pois a imagem toda possui\n",
    "        # 130 pixels de altura\n",
    "        self.image = folhadeanimação.subsurface((xf,102),(803,28))\n",
    "        # usa esse método get_rect() da imagem para não precisar se preocupar com os parâmetros do retângulo\n",
    "        self.rect = self.image.get_rect()\n",
    "        # talvez o chão tenha que ser ajustado para que o boneco pareça caminhar melhor, então ajuste para\n",
    "        # algo perto de 112\n",
    "        self.rect.y = 112 \n",
    "        self.rect.x = x # onde o chão será mostrado na tela, a partir de x\n",
    "\n",
    "    def update(self) -> None:\n",
    "        # o update apenas necessita de duas linhas:\n",
    "        self.rect.move_ip((-10,0)) # mover o retângulo do chão da direita pra esquerda\n",
    "        # essa próxima linha define a condição de contorno para que o chão percorra duas vezes o tamanho da tela\n",
    "        # isso garante uma transição mais suave quando o chão começa a desaparecer e reaparecer no lado oposto\n",
    "        self.rect.x = (self.rect.x+WIDTH)%(2*WIDTH)-WIDTH"
   ]
  },
  {
   "attachments": {},
   "cell_type": "markdown",
   "metadata": {},
   "source": [
    "Definidas as classes, vamos iniciar o jogo, criar os elementos que serão mostrados na tela e colocá-los dentro de um grupo do _pygame_ que irá garantir que eles sejam desenhados na tela ao longo do _looping_ principal."
   ]
  },
  {
   "cell_type": "code",
   "execution_count": 14,
   "metadata": {},
   "outputs": [],
   "source": [
    "# O início antes do loop é sempre idêntico, iniciar e selecionar o tamanho da tela, criar o relógio, etc.\n",
    "pygame.init()\n",
    "\n",
    "tela = pygame.display.set_mode(SIZE)\n",
    "relógio = pygame.time.Clock()\n",
    "rodando = True\n",
    "\n",
    "# Agora vamos criar os objetos que vão aparecer na tela\n",
    "heroi = Boneco()\n",
    "piso1 = Chao(0,0)\n",
    "piso2 = Chao(800,1001) # a imagem tem mais de 2000 pixels de largura, pegar um pedaço que começa em 1001 é tranquilo\n",
    "\n",
    "# agora agrupamos os elementos criados\n",
    "grupo = pygame.sprite.Group() # cria o grupo\n",
    "grupo.add(heroi) # adiciona o boneco\n",
    "grupo.add(piso1) # adiciona o primeiro piso\n",
    "grupo.add(piso2) # adiciona o segundo piso\n",
    "\n",
    "# Finalmente o looping principal do jogo\n",
    "while rodando:\n",
    "    # Inspetor de eventos\n",
    "    for evento in pygame.event.get():\n",
    "        # Evento básico de sair ao pressionar o botão de sair da janela\n",
    "        if evento.type == QUIT:\n",
    "            rodando = False\n",
    "        # Se uma tecla do teclado foi pressionada\n",
    "        if evento.type == KEYDOWN:\n",
    "            # Se essa tecla foi o espaço\n",
    "            if evento.key == K_SPACE:\n",
    "                heroi.jump() # Executa o pulo\n",
    "    \n",
    "    # Agora façamos apenas desenhos\n",
    "    tela.fill((0,0,0)) # pinta a tela de preto\n",
    "    grupo.update() # Atualiza os elementos que vão aparecer na tela\n",
    "    grupo.draw(tela) # desenha todos os elementos na tela\n",
    "    pygame.display.flip() # Desenha os elementos que mudaram na tela\n",
    "\n",
    "    relógio.tick(10) # Ajusta o looping para 10 quadros por segundo\n",
    "\n",
    "# Game Over\n",
    "pygame.quit()\n"
   ]
  },
  {
   "attachments": {},
   "cell_type": "markdown",
   "metadata": {},
   "source": [
    "Alinhe o chão com o pé do boneco que anda."
   ]
  }
 ],
 "metadata": {
  "kernelspec": {
   "display_name": "Python 3",
   "language": "python",
   "name": "python3"
  },
  "language_info": {
   "codemirror_mode": {
    "name": "ipython",
    "version": 3
   },
   "file_extension": ".py",
   "mimetype": "text/x-python",
   "name": "python",
   "nbconvert_exporter": "python",
   "pygments_lexer": "ipython3",
   "version": "3.10.10"
  },
  "orig_nbformat": 4
 },
 "nbformat": 4,
 "nbformat_minor": 2
}
