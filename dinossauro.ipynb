{
 "cells": [
  {
   "cell_type": "code",
   "execution_count": 1,
   "metadata": {},
   "outputs": [
    {
     "name": "stdout",
     "output_type": "stream",
     "text": [
      "pygame 2.2.0 (SDL 2.26.4, Python 3.10.10)\n",
      "Hello from the pygame community. https://www.pygame.org/contribute.html\n"
     ]
    }
   ],
   "source": [
    "import pygame\n",
    "from pygame.locals import *\n",
    "from random import randint\n",
    "import os"
   ]
  },
  {
   "attachments": {},
   "cell_type": "markdown",
   "metadata": {},
   "source": [
    "# _Sprites_"
   ]
  },
  {
   "cell_type": "code",
   "execution_count": 2,
   "metadata": {},
   "outputs": [],
   "source": [
    "SIZE = WIDTH, HEIGHT = (800,640)\n",
    "FUNDO = pygame.Color('black')\n",
    "BRANCO = pygame.Color('white')\n",
    "FPS = 30\n",
    "\n",
    "CHÃO = 397\n",
    "folhadeanimação = pygame.image.load('images/offline-sprite-2x-black.png')\n",
    "folhapassaro = pygame.image.load('images/357-3575839_sprite-animation-flying-bird-hd-png-download.png')\n"
   ]
  },
  {
   "cell_type": "code",
   "execution_count": 3,
   "metadata": {},
   "outputs": [],
   "source": [
    "class boneco(pygame.sprite.Sprite):\n",
    "    def __init__(self):\n",
    "        super(boneco, self).__init__()\n",
    "\n",
    "        self.images = [pygame.image.load(f'images/walk{i}.png') for i in range(1,11)]\n",
    "        self.index = 0\n",
    "        self.image = self.images[self.index]\n",
    "        self.rect = pygame.Rect(5,CHÃO-180,150,198)\n",
    "\n",
    "        self.pulo = False\n",
    "\n",
    "\n",
    "    def jump(self):\n",
    "        self.pulo = True\n",
    "        self.t = 0\n",
    "\n",
    "\n",
    "    def update(self):\n",
    "        \n",
    "        if self.pulo == True:\n",
    "            v0 = -25\n",
    "            g = 2\n",
    "            t = self.t    \n",
    "            self.rect.y += v0+g*t\n",
    "            self.t += 1\n",
    "            if self.rect.y > CHÃO-180:\n",
    "                self.rect.y = CHÃO-180\n",
    "                self.pulo = False\n",
    "                self.t = 0\n",
    "                \n",
    "        self.index += 1\n",
    "\n",
    "        if self.index >= len(self.images):\n",
    "            self.index = 0\n",
    "        \n",
    "        self.image = self.images[self.index]"
   ]
  },
  {
   "cell_type": "code",
   "execution_count": 4,
   "metadata": {},
   "outputs": [],
   "source": [
    "class Chao(pygame.sprite.Sprite):\n",
    "    def __init__(self, x, xf) -> None:\n",
    "        super(Chao, self).__init__()\n",
    "\n",
    "        self.image = folhadeanimação.subsurface((xf,102),(803,28))\n",
    "        self.rect = self.image.get_rect()\n",
    "        self.rect.y = CHÃO\n",
    "        self.rect.x = x\n",
    "\n",
    "    def update(self) -> None:\n",
    "        self.rect.move_ip((-10,0))\n",
    "        self.rect.x = (self.rect.x+WIDTH)%(2*WIDTH)-WIDTH"
   ]
  },
  {
   "cell_type": "code",
   "execution_count": 5,
   "metadata": {},
   "outputs": [],
   "source": [
    "class Céu(pygame.sprite.Sprite):\n",
    "    def __init__(self) -> None:\n",
    "        super(Céu, self).__init__()\n",
    "\n",
    "        self.image = folhadeanimação.subsurface((166,0),(92,30))\n",
    "        self.v = v = randint(1,6)\n",
    "\n",
    "        self.image = pygame.transform.scale_by(self.image,(v+1)/6)\n",
    "        self.rect = self.image.get_rect()\n",
    "        self.rect.x = randint(0,4*WIDTH-92)\n",
    "        self.rect.y = randint(5,250)\n",
    "\n",
    "    def update(self) -> None:\n",
    "        self.rect.move_ip((-self.v,0))\n",
    "        self.rect.x = (self.rect.x+2*WIDTH)%(4*WIDTH)-2*WIDTH"
   ]
  },
  {
   "cell_type": "code",
   "execution_count": 6,
   "metadata": {},
   "outputs": [],
   "source": [
    "class Pranta(pygame.sprite.Sprite):\n",
    "    '''\n",
    "    São quatro cactos grandes diferentes na imagem offline-sprite-2x-black.png\n",
    "    e um cacto duplo\n",
    "    logo i = 0 até 4\n",
    "    e a posição é qualquer uma distante do boneco\n",
    "    '''\n",
    "    def __init__(self, i=0, x=51) -> None:\n",
    "        super(Pranta, self).__init__()\n",
    "\n",
    "        if 0 <= i < 3:\n",
    "            self.image = folhadeanimação.subsurface((652+i*50,0),(50,102))\n",
    "        elif i == 3:\n",
    "            self.image = folhadeanimação.subsurface((652+i*50,0),(48,102))\n",
    "        elif i == 4:\n",
    "            self.image = folhadeanimação.subsurface((850,0),(102,102))\n",
    "        \n",
    "        self.rect = self.image.get_rect()\n",
    "        self.rect.x = randint(WIDTH+x,4*WIDTH)\n",
    "        self.rect.y = CHÃO-80\n",
    "\n",
    "    def update(self) -> None:\n",
    "        self.rect.move_ip((-10,0))\n",
    "        self.rect.x = (self.rect.x+2*WIDTH)%(4*WIDTH)-2*WIDTH"
   ]
  },
  {
   "cell_type": "code",
   "execution_count": 20,
   "metadata": {},
   "outputs": [],
   "source": [
    "pygame.init()\n",
    "\n",
    "tela = pygame.display.set_mode(SIZE)\n",
    "fonte = pygame.font.SysFont('Heveltica',25,False,False)\n",
    "mensage = f'Morri!'\n",
    "balão = fonte.render(mensage,True,BRANCO)\n",
    "\n",
    "\n",
    "\n",
    "heroi = boneco()\n",
    "piso = Chao(0,0)\n",
    "piso2 = Chao(800,1400)\n",
    "cacto1 = Pranta(randint(0,4))\n",
    "cacto2 = Pranta(randint(0,4),322)\n",
    "cacto3 = Pranta(randint(0,4),2*WIDTH)\n",
    "cacto4 = Pranta(4,2*WIDTH)\n",
    "nuvem1 = Céu()\n",
    "nuvem2 = Céu()\n",
    "nuvem3 = Céu()\n",
    "nuvem4 = Céu()\n",
    "nuvem5 = Céu()\n",
    "nuvem6 = Céu()\n",
    "\n",
    "grupo = pygame.sprite.Group()\n",
    "grupo.add(piso)\n",
    "grupo.add(piso2)\n",
    "grupo.add(cacto1)\n",
    "grupo.add(cacto2)\n",
    "grupo.add(cacto3)\n",
    "# grupo.add(cacto4)\n",
    "grupo.add(nuvem1)\n",
    "grupo.add(nuvem2)\n",
    "grupo.add(nuvem3)\n",
    "grupo.add(nuvem4)\n",
    "grupo.add(nuvem5)\n",
    "grupo.add(nuvem6)\n",
    "grupo.add(Céu())\n",
    "grupo.add(heroi)\n",
    "\n",
    "obstáculos = pygame.sprite.Group(cacto1)\n",
    "obstáculos.add(cacto2)\n",
    "obstáculos.add(cacto3)\n",
    "# obstáculos.add(cacto4)\n",
    "\n",
    "relogio = pygame.time.Clock()\n",
    "\n",
    "rodando = True\n",
    "\n",
    "while rodando:\n",
    "\n",
    "    for evento in pygame.event.get():\n",
    "        if evento.type == QUIT:\n",
    "            rodando = False\n",
    "        if evento.type == KEYDOWN:\n",
    "            if evento.key == K_SPACE and heroi.pulo == False:\n",
    "                heroi.jump()\n",
    "\n",
    "    tela.fill(FUNDO)\n",
    "    colidiu = pygame.sprite.spritecollide(heroi,obstáculos,False,pygame.sprite.collide_mask)\n",
    "    if colidiu:\n",
    "        tela.blit(balão,(130,CHÃO-180))\n",
    "    else:\n",
    "        grupo.update()\n",
    "    \n",
    "    grupo.draw(tela)\n",
    "    pygame.display.flip()\n",
    "    relogio.tick(FPS)\n",
    "\n",
    "\n",
    "pygame.quit()"
   ]
  },
  {
   "cell_type": "code",
   "execution_count": 209,
   "metadata": {},
   "outputs": [
    {
     "data": {
      "text/plain": [
       "4"
      ]
     },
     "execution_count": 209,
     "metadata": {},
     "output_type": "execute_result"
    }
   ],
   "source": [
    "randint(0,4)"
   ]
  },
  {
   "cell_type": "code",
   "execution_count": null,
   "metadata": {},
   "outputs": [],
   "source": []
  }
 ],
 "metadata": {
  "kernelspec": {
   "display_name": "Python 3",
   "language": "python",
   "name": "python3"
  },
  "language_info": {
   "codemirror_mode": {
    "name": "ipython",
    "version": 3
   },
   "file_extension": ".py",
   "mimetype": "text/x-python",
   "name": "python",
   "nbconvert_exporter": "python",
   "pygments_lexer": "ipython3",
   "version": "3.10.10"
  },
  "orig_nbformat": 4
 },
 "nbformat": 4,
 "nbformat_minor": 2
}
