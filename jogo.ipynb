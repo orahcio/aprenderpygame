{
 "cells": [
  {
   "attachments": {},
   "cell_type": "markdown",
   "metadata": {},
   "source": [
    "# Primeiro joguinho usando a _pygame_"
   ]
  },
  {
   "cell_type": "code",
   "execution_count": 1,
   "metadata": {},
   "outputs": [
    {
     "name": "stdout",
     "output_type": "stream",
     "text": [
      "pygame 2.2.0 (SDL 2.26.4, Python 3.10.10)\n",
      "Hello from the pygame community. https://www.pygame.org/contribute.html\n"
     ]
    }
   ],
   "source": [
    "import pygame\n",
    "from pygame.locals import *\n",
    "from sys import exit\n",
    "from random import randint\n",
    "import time"
   ]
  },
  {
   "attachments": {},
   "cell_type": "markdown",
   "metadata": {},
   "source": [
    "## Criando uma tela com título"
   ]
  },
  {
   "cell_type": "code",
   "execution_count": 2,
   "metadata": {},
   "outputs": [],
   "source": [
    "pygame.init()\n",
    "\n",
    "altura = 640\n",
    "largura = 800\n",
    "\n",
    "tela = pygame.display.set_mode((largura,altura))\n",
    "pygame.display.set_caption('Joguinho')\n",
    "\n",
    "rodando = True\n",
    "\n",
    "while rodando:\n",
    "    for evento in pygame.event.get():\n",
    "        if evento.type == QUIT:\n",
    "            rodando = False\n",
    "    pygame.display.update()\n",
    "\n",
    "pygame.quit()"
   ]
  },
  {
   "attachments": {},
   "cell_type": "markdown",
   "metadata": {},
   "source": [
    "## Desenhando formas simples"
   ]
  },
  {
   "cell_type": "code",
   "execution_count": 6,
   "metadata": {},
   "outputs": [],
   "source": [
    "VERMELHO = (255,0,0)\n",
    "VERDE = (0,255,0)\n",
    "AMARELO = (255,255,0)\n",
    "AZUL = (0,0,255)\n",
    "\n",
    "pygame.init()\n",
    "\n",
    "altura = 640\n",
    "largura = 800\n",
    "\n",
    "tela = pygame.display.set_mode((largura,altura))\n",
    "pygame.display.set_caption('Joguinho')\n",
    "\n",
    "rodando = True\n",
    "\n",
    "while rodando:\n",
    "    for evento in pygame.event.get():\n",
    "        if evento.type == QUIT:\n",
    "            rodando = False\n",
    "    pygame.draw.rect(tela,VERMELHO,(10,10,20,40))\n",
    "    pygame.draw.circle(tela,AZUL,(50,60),30)\n",
    "    pygame.draw.line(tela,AMARELO,(320,0),(320,640),3)\n",
    "    pygame.display.update()\n",
    "\n",
    "pygame.quit()"
   ]
  },
  {
   "attachments": {},
   "cell_type": "markdown",
   "metadata": {},
   "source": [
    "## Dando movimento aos objetos"
   ]
  },
  {
   "cell_type": "code",
   "execution_count": 13,
   "metadata": {},
   "outputs": [],
   "source": [
    "VERMELHO = (255,0,0)\n",
    "VERDE = (0,255,0)\n",
    "AMARELO = (255,255,0)\n",
    "AZUL = (0,0,255)\n",
    "FUNDO = (0,0,0)\n",
    "\n",
    "pygame.init()\n",
    "\n",
    "altura = 640\n",
    "largura = 800\n",
    "\n",
    "tela = pygame.display.set_mode((largura,altura))\n",
    "pygame.display.set_caption('Joguinho')\n",
    "relogio = pygame.time.Clock()\n",
    "\n",
    "x,y = (400,0)\n",
    "\n",
    "rodando = True\n",
    "\n",
    "while rodando:\n",
    "    relogio.tick(30)\n",
    "    tela.fill(FUNDO)\n",
    "    for evento in pygame.event.get():\n",
    "        if evento.type == QUIT:\n",
    "            rodando = False\n",
    "    pygame.draw.rect(tela,VERMELHO,(x,y,20,40))\n",
    "    y = (y+2)%altura\n",
    "    \n",
    "    pygame.display.update()\n",
    "\n",
    "pygame.quit()"
   ]
  },
  {
   "attachments": {},
   "cell_type": "markdown",
   "metadata": {},
   "source": [
    "## Controlando objetos com o teclado"
   ]
  },
  {
   "cell_type": "code",
   "execution_count": 18,
   "metadata": {},
   "outputs": [],
   "source": [
    "VERMELHO = (255,0,0)\n",
    "VERDE = (0,255,0)\n",
    "AMARELO = (255,255,0)\n",
    "AZUL = (0,0,255)\n",
    "FUNDO = (0,0,0)\n",
    "\n",
    "pygame.init()\n",
    "\n",
    "altura = 640\n",
    "largura = 800\n",
    "\n",
    "tela = pygame.display.set_mode((largura,altura))\n",
    "pygame.display.set_caption('Joguinho')\n",
    "relogio = pygame.time.Clock()\n",
    "\n",
    "x,y = (largura/2,altura/2)\n",
    "\n",
    "rodando = True\n",
    "\n",
    "while rodando:\n",
    "    relogio.tick(30)\n",
    "    tela.fill(FUNDO)\n",
    "    for evento in pygame.event.get():\n",
    "        if evento.type == QUIT:\n",
    "            rodando = False\n",
    "        # if evento.type == KEYDOWN:\n",
    "        #     if evento.key == K_w:\n",
    "        #         y -= 2\n",
    "        #     if evento.key == K_s:\n",
    "        #         y += 2\n",
    "        #     if evento.key == K_d:\n",
    "        #         x += 2\n",
    "        #     if evento.key == K_a:\n",
    "        #         x -= 2\n",
    "    \n",
    "    if pygame.key.get_pressed()[K_a]:\n",
    "        x -= 5\n",
    "    if pygame.key.get_pressed()[K_d]:\n",
    "        x += 5\n",
    "    if pygame.key.get_pressed()[K_w]:\n",
    "        y -= 5\n",
    "    if pygame.key.get_pressed()[K_s]:\n",
    "        y += 5\n",
    "\n",
    "    pygame.draw.rect(tela,VERMELHO,(x%largura,y%altura,40,40))\n",
    "\n",
    "    pygame.display.update()\n",
    "\n",
    "pygame.quit()"
   ]
  },
  {
   "attachments": {},
   "cell_type": "markdown",
   "metadata": {},
   "source": [
    "## Colidindo objetos"
   ]
  },
  {
   "cell_type": "code",
   "execution_count": 8,
   "metadata": {},
   "outputs": [
    {
     "data": {
      "text/plain": [
       "1680645259.6496592"
      ]
     },
     "execution_count": 8,
     "metadata": {},
     "output_type": "execute_result"
    }
   ],
   "source": [
    "time.time()"
   ]
  },
  {
   "cell_type": "code",
   "execution_count": 12,
   "metadata": {},
   "outputs": [],
   "source": [
    "semente = time.time()\n",
    "\n",
    "VERMELHO = (255,0,0)\n",
    "VERDE = (0,255,0)\n",
    "AMARELO = (255,255,0)\n",
    "AZUL = (0,0,255)\n",
    "FUNDO = (0,0,0)\n",
    "\n",
    "pygame.init()\n",
    "\n",
    "altura = 640\n",
    "largura = 800\n",
    "\n",
    "tela = pygame.display.set_mode((largura,altura))\n",
    "pygame.display.set_caption('Joguinho')\n",
    "relogio = pygame.time.Clock()\n",
    "\n",
    "x,y = (0,0)\n",
    "xo,yo = (largura/2,altura/2)\n",
    "\n",
    "rodando = True\n",
    "\n",
    "while rodando:\n",
    "    relogio.tick(30)\n",
    "    tela.fill(FUNDO)\n",
    "    for evento in pygame.event.get():\n",
    "        if evento.type == QUIT:\n",
    "            rodando = False\n",
    "        if evento.type == KEYDOWN:\n",
    "            if evento.key == K_ESCAPE:\n",
    "                rodando = False\n",
    "    \n",
    "    if pygame.key.get_pressed()[K_a]:\n",
    "        x -= 5\n",
    "    if pygame.key.get_pressed()[K_d]:\n",
    "        x += 5\n",
    "    if pygame.key.get_pressed()[K_w]:\n",
    "        y -= 5\n",
    "    if pygame.key.get_pressed()[K_s]:\n",
    "        y += 5\n",
    "\n",
    "    rect_obj = pygame.draw.rect(tela,AZUL,(xo,yo,50,50))\n",
    "    rect_move = pygame.draw.rect(tela,VERMELHO,(x,y,40,40))\n",
    "    x %= largura\n",
    "    y %= altura\n",
    "\n",
    "    if rect_move.colliderect(rect_obj):\n",
    "        xo = (semente+yo+xo*16507)%largura\n",
    "        yo = (semente+xo+yo*16507)%altura\n",
    "        \n",
    "    pygame.display.update()\n",
    "\n",
    "pygame.quit()"
   ]
  },
  {
   "attachments": {},
   "cell_type": "markdown",
   "metadata": {},
   "source": [
    "# Jogo da cobrinha"
   ]
  },
  {
   "cell_type": "code",
   "execution_count": 21,
   "metadata": {},
   "outputs": [],
   "source": [
    "\n",
    "VERMELHO = (255,0,0)\n",
    "VERDE = (0,255,0)\n",
    "AMARELO = (255,255,0)\n",
    "AZUL = (0,0,255)\n",
    "FUNDO = (255,255,255)\n",
    "\n",
    "pygame.init()\n",
    "\n",
    "altura = 640\n",
    "largura = 800\n",
    "\n",
    "tela = pygame.display.set_mode((largura,altura))\n",
    "pygame.display.set_caption('Joguinho da cobrinha')\n",
    "relogio = pygame.time.Clock()\n",
    "\n",
    "\n",
    "cabeca = Rect(largura/2,altura/2,20,20)\n",
    "maca = Rect(randint(20,largura-20),randint(20,altura-20),20,20)\n",
    "cobra = []\n",
    "compr = 1\n",
    "s = 6\n",
    "controle = {K_w: (0,-s),\n",
    "            K_s: (0,s),\n",
    "            K_a: (-s,0),\n",
    "            K_d: (s,0)}\n",
    "\n",
    "x,y = (0,0)\n",
    "v = (s,0)\n",
    "\n",
    "rodando = True\n",
    "\n",
    "while rodando:\n",
    "    relogio.tick(30)\n",
    "    tela.fill(FUNDO)\n",
    "    corpo = cabeca.copy()\n",
    "    for evento in pygame.event.get():\n",
    "        if evento.type == QUIT:\n",
    "            rodando = False\n",
    "        if evento.type == KEYDOWN:\n",
    "            if evento.key == K_ESCAPE:\n",
    "                rodando = False\n",
    "            if evento.key in controle:\n",
    "                # if v[0] == -5 and evento.key == K_d:\n",
    "                #     pass\n",
    "                # elif v[0] == 5 and evento.key == K_a:\n",
    "                #     pass\n",
    "                # elif v[1] == -5 and evento.key == K_s:\n",
    "                #     pass\n",
    "                # elif v[1] == 5 and evento.key == K_w:\n",
    "                #     pass\n",
    "                # else:\n",
    "                #     v = controle[evento.key]\n",
    "                x,y = v\n",
    "                xn,yn = controle[evento.key]\n",
    "                escalar = (x*xn+y*yn)/(s*s)\n",
    "                escalar *= escalar\n",
    "                v = (x-xn)*escalar+xn, (y-yn)*escalar+yn\n",
    "    cabeca.move_ip(v)\n",
    "    if (cabeca.x,cabeca.y) in cobra:\n",
    "        rodando = False\n",
    "    cobra.append((cabeca.x,cabeca.y))\n",
    "    for c in cobra:\n",
    "        pygame.draw.rect(tela,VERDE,(c[0],c[1],20,20))\n",
    "        \n",
    "    rect_obj = pygame.draw.rect(tela,VERMELHO,maca)\n",
    "    cabeca.x %= largura\n",
    "    cabeca.y %= altura\n",
    "    if cabeca.colliderect(maca):\n",
    "        maca.x = randint(20,largura-20)\n",
    "        maca.y = randint(20,altura-20)\n",
    "        compr += 3\n",
    "\n",
    "    if len(cobra) > compr:\n",
    "        cobra.pop(0)\n",
    "    pygame.display.flip()\n",
    "\n",
    "pygame.quit()"
   ]
  }
 ],
 "metadata": {
  "kernelspec": {
   "display_name": "Python 3",
   "language": "python",
   "name": "python3"
  },
  "language_info": {
   "codemirror_mode": {
    "name": "ipython",
    "version": 3
   },
   "file_extension": ".py",
   "mimetype": "text/x-python",
   "name": "python",
   "nbconvert_exporter": "python",
   "pygments_lexer": "ipython3",
   "version": "3.10.10"
  },
  "orig_nbformat": 4,
  "vscode": {
   "interpreter": {
    "hash": "4162ed54b4b6832ceefb1638bd30fe9753138b511789c97c7484eaa144448463"
   }
  }
 },
 "nbformat": 4,
 "nbformat_minor": 2
}
