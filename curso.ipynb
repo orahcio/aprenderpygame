{
 "cells": [
  {
   "attachments": {},
   "cell_type": "markdown",
   "metadata": {},
   "source": [
    "# Usando bibliotecas do `python`\n",
    "\n",
    "## Instalação\n",
    "\n",
    "Para instalar a alguma biblioteca desejada, por exemplo a `mumpy` basta usar o comando\n",
    "```bash\n",
    "conda install numpy\n",
    "```\n",
    "\n",
    "As bibliotecas que usaremos nesse exemplo são: `numpy` e `matplotlib`. Para isso pode-se intalar as mesmas de uma vez só por\n",
    "```bash\n",
    "conda install numpy matplotlib\n",
    "```"
   ]
  },
  {
   "attachments": {},
   "cell_type": "markdown",
   "metadata": {},
   "source": [
    "## Utilizando"
   ]
  },
  {
   "cell_type": "code",
   "execution_count": 1,
   "metadata": {},
   "outputs": [],
   "source": [
    "%matplotlib widget\n",
    "import matplotlib\n",
    "from matplotlib import pyplot as plt\n",
    "from matplotlib.animation import FuncAnimation\n",
    "import numpy as np"
   ]
  },
  {
   "cell_type": "code",
   "execution_count": 110,
   "metadata": {},
   "outputs": [],
   "source": [
    "theta = 60\n",
    "v0y = lambda theta: np.sin(np.deg2rad(theta))\n",
    "v0x = lambda theta: np.cos(np.deg2rad(theta))\n",
    "\n",
    "def inicio():\n",
    "    bola.set_offsets(np.c_[0,0])\n",
    "    \n",
    "def animate(i):\n",
    "    t = i/(50*v0y(80))\n",
    "    x = v0x(theta) * t\n",
    "    y = v0y(theta) * t -t*t/2\n",
    "    \n",
    "    bola.set_offsets(np.c_[x,y])"
   ]
  },
  {
   "cell_type": "code",
   "execution_count": null,
   "metadata": {},
   "outputs": [],
   "source": [
    "xmax = 2*v0x(45)*v0y(45)\n",
    "ymax = v0y(80)**2/2\n",
    "\n",
    "fig = plt.figure(figsize=(10,4))\n",
    "ax = plt.axes(xlim=(-0.01,xmax),ylim=(-0.01,ymax))\n",
    "bola = ax.scatter(0,0,s=150)\n",
    "\n",
    "ani = FuncAnimation(fig, animate, init_func=inicio, interval=20, frames=86, repeat=False)"
   ]
  }
 ],
 "metadata": {
  "kernelspec": {
   "display_name": "Python 3 (ipykernel)",
   "language": "python",
   "name": "python3"
  },
  "language_info": {
   "codemirror_mode": {
    "name": "ipython",
    "version": 3
   },
   "file_extension": ".py",
   "mimetype": "text/x-python",
   "name": "python",
   "nbconvert_exporter": "python",
   "pygments_lexer": "ipython3",
   "version": "3.10.10"
  },
  "vscode": {
   "interpreter": {
    "hash": "01e2146c4c499d49c4f5fa231bdb45dcd5c67ac9000bbd8260b2769fedbb874b"
   }
  }
 },
 "nbformat": 4,
 "nbformat_minor": 2
}
