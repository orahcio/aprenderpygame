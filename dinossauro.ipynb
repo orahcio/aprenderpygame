{
 "cells": [
  {
   "cell_type": "code",
   "execution_count": null,
   "metadata": {},
   "outputs": [],
   "source": [
    "import pygame\n",
    "from pygame.locals import *\n",
    "from random import randint\n",
    "import os"
   ]
  },
  {
   "attachments": {},
   "cell_type": "markdown",
   "metadata": {},
   "source": [
    "# _Sprites_"
   ]
  },
  {
   "cell_type": "code",
   "execution_count": 28,
   "metadata": {},
   "outputs": [],
   "source": [
    "SIZE = WIDTH, HEIGHT = (800,640)\n",
    "FUNDO = pygame.Color('black')\n",
    "FPS = 20\n",
    "\n",
    "folhadeanimação = pygame.image.load('images/offline-sprite-2x-black.png')"
   ]
  },
  {
   "cell_type": "code",
   "execution_count": 32,
   "metadata": {},
   "outputs": [],
   "source": [
    "class boneco(pygame.sprite.Sprite):\n",
    "    def __init__(self):\n",
    "        super(boneco, self).__init__()\n",
    "\n",
    "        self.images = [pygame.image.load(f'images/walk{i}.png') for i in range(1,11)]\n",
    "        self.index = 0\n",
    "        self.image = self.images[self.index]\n",
    "        self.rect = pygame.Rect(5,122,150,198)\n",
    "\n",
    "        self.pulo = False\n",
    "\n",
    "\n",
    "    def jump(self):\n",
    "        self.pulo = True\n",
    "        self.t = 0\n",
    "\n",
    "\n",
    "    def update(self):\n",
    "        \n",
    "        if self.pulo == True:\n",
    "            v0 = 7\n",
    "            t = self.t    \n",
    "            self.rect.y -= v0*t-2*t*t/2\n",
    "            self.t += 1\n",
    "            if self.rect.y > 122:\n",
    "                self.rect.y = 122\n",
    "                self.pulo = False\n",
    "                self.t = 0\n",
    "                \n",
    "        self.index += 1\n",
    "\n",
    "        if self.index >= len(self.images):\n",
    "            self.index = 0\n",
    "        \n",
    "        self.image = self.images[self.index]"
   ]
  },
  {
   "cell_type": "code",
   "execution_count": 50,
   "metadata": {},
   "outputs": [],
   "source": [
    "class Chao(pygame.sprite.Sprite):\n",
    "    def __init__(self, x, xf) -> None:\n",
    "        super(Chao, self).__init__()\n",
    "\n",
    "        self.image = folhadeanimação.subsurface((xf,100),(100,30))\n",
    "        self.rect = self.image.get_rect()\n",
    "        self.rect.y = 120+180\n",
    "        self.rect.x = x\n",
    "\n",
    "    def update(self) -> None:\n",
    "        self.rect.move_ip((-10,0))\n",
    "        self.rect.x %= WIDTH"
   ]
  },
  {
   "cell_type": "code",
   "execution_count": 51,
   "metadata": {},
   "outputs": [],
   "source": [
    "pygame.init()\n",
    "\n",
    "tela = pygame.display.set_mode(SIZE)\n",
    "\n",
    "heroi = boneco()\n",
    "piso = Chao(0,0)\n",
    "\n",
    "grupo = pygame.sprite.Group(heroi)\n",
    "grupo.add(piso)\n",
    "grupo.add(Chao(200,400))\n",
    "grupo.add(Chao(700,500))\n",
    "\n",
    "relogio = pygame.time.Clock()\n",
    "\n",
    "rodando = True\n",
    "\n",
    "while rodando:\n",
    "\n",
    "    for evento in pygame.event.get():\n",
    "        if evento.type == QUIT:\n",
    "            rodando = False\n",
    "        if evento.type == KEYDOWN:\n",
    "            if evento.key == K_SPACE and heroi.pulo == False:\n",
    "                heroi.jump()\n",
    "\n",
    "    grupo.update()\n",
    "    tela.fill(FUNDO)\n",
    "    grupo.draw(tela)\n",
    "    pygame.display.flip()\n",
    "    relogio.tick(FPS)\n",
    "\n",
    "\n",
    "pygame.quit()"
   ]
  }
 ],
 "metadata": {
  "kernelspec": {
   "display_name": "Python 3",
   "language": "python",
   "name": "python3"
  },
  "language_info": {
   "codemirror_mode": {
    "name": "ipython",
    "version": 3
   },
   "file_extension": ".py",
   "mimetype": "text/x-python",
   "name": "python",
   "nbconvert_exporter": "python",
   "pygments_lexer": "ipython3",
   "version": "3.10.10"
  },
  "orig_nbformat": 4
 },
 "nbformat": 4,
 "nbformat_minor": 2
}
