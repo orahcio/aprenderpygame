{
 "cells": [
  {
   "attachments": {},
   "cell_type": "markdown",
   "metadata": {},
   "source": [
    "# Primeiro joguinho usando a _pygame_"
   ]
  },
  {
   "cell_type": "code",
   "execution_count": 7,
   "metadata": {},
   "outputs": [],
   "source": [
    "import pygame\n",
    "from pygame.locals import *\n",
    "from sys import exit\n",
    "import time"
   ]
  },
  {
   "attachments": {},
   "cell_type": "markdown",
   "metadata": {},
   "source": [
    "## Criando uma tela com título"
   ]
  },
  {
   "cell_type": "code",
   "execution_count": 4,
   "metadata": {},
   "outputs": [],
   "source": [
    "pygame.init()\n",
    "\n",
    "altura = 640\n",
    "largura = 800\n",
    "\n",
    "tela = pygame.display.set_mode((largura,altura))\n",
    "pygame.display.set_caption('Joguinho')\n",
    "\n",
    "rodando = True\n",
    "\n",
    "while rodando:\n",
    "    for evento in pygame.event.get():\n",
    "        if evento.type == QUIT:\n",
    "            rodando = False\n",
    "    pygame.display.update()\n",
    "\n",
    "pygame.quit()"
   ]
  },
  {
   "attachments": {},
   "cell_type": "markdown",
   "metadata": {},
   "source": [
    "## Desenhando formas simples"
   ]
  },
  {
   "cell_type": "code",
   "execution_count": 6,
   "metadata": {},
   "outputs": [],
   "source": [
    "VERMELHO = (255,0,0)\n",
    "VERDE = (0,255,0)\n",
    "AMARELO = (255,255,0)\n",
    "AZUL = (0,0,255)\n",
    "\n",
    "pygame.init()\n",
    "\n",
    "altura = 640\n",
    "largura = 800\n",
    "\n",
    "tela = pygame.display.set_mode((largura,altura))\n",
    "pygame.display.set_caption('Joguinho')\n",
    "\n",
    "rodando = True\n",
    "\n",
    "while rodando:\n",
    "    for evento in pygame.event.get():\n",
    "        if evento.type == QUIT:\n",
    "            rodando = False\n",
    "    pygame.draw.rect(tela,VERMELHO,(10,10,20,40))\n",
    "    pygame.draw.circle(tela,AZUL,(50,60),30)\n",
    "    pygame.draw.line(tela,AMARELO,(320,0),(320,640),3)\n",
    "    pygame.display.update()\n",
    "\n",
    "pygame.quit()"
   ]
  },
  {
   "attachments": {},
   "cell_type": "markdown",
   "metadata": {},
   "source": [
    "## Dando movimento aos objetos"
   ]
  },
  {
   "cell_type": "code",
   "execution_count": 13,
   "metadata": {},
   "outputs": [],
   "source": [
    "VERMELHO = (255,0,0)\n",
    "VERDE = (0,255,0)\n",
    "AMARELO = (255,255,0)\n",
    "AZUL = (0,0,255)\n",
    "FUNDO = (0,0,0)\n",
    "\n",
    "pygame.init()\n",
    "\n",
    "altura = 640\n",
    "largura = 800\n",
    "\n",
    "tela = pygame.display.set_mode((largura,altura))\n",
    "pygame.display.set_caption('Joguinho')\n",
    "relogio = pygame.time.Clock()\n",
    "\n",
    "x,y = (400,0)\n",
    "\n",
    "rodando = True\n",
    "\n",
    "while rodando:\n",
    "    relogio.tick(30)\n",
    "    tela.fill(FUNDO)\n",
    "    for evento in pygame.event.get():\n",
    "        if evento.type == QUIT:\n",
    "            rodando = False\n",
    "    pygame.draw.rect(tela,VERMELHO,(x,y,20,40))\n",
    "    y = (y+2)%altura\n",
    "    \n",
    "    pygame.display.update()\n",
    "\n",
    "pygame.quit()"
   ]
  },
  {
   "attachments": {},
   "cell_type": "markdown",
   "metadata": {},
   "source": [
    "## Controlando objetos com o teclado"
   ]
  },
  {
   "cell_type": "code",
   "execution_count": 18,
   "metadata": {},
   "outputs": [],
   "source": [
    "VERMELHO = (255,0,0)\n",
    "VERDE = (0,255,0)\n",
    "AMARELO = (255,255,0)\n",
    "AZUL = (0,0,255)\n",
    "FUNDO = (0,0,0)\n",
    "\n",
    "pygame.init()\n",
    "\n",
    "altura = 640\n",
    "largura = 800\n",
    "\n",
    "tela = pygame.display.set_mode((largura,altura))\n",
    "pygame.display.set_caption('Joguinho')\n",
    "relogio = pygame.time.Clock()\n",
    "\n",
    "x,y = (largura/2,altura/2)\n",
    "\n",
    "rodando = True\n",
    "\n",
    "while rodando:\n",
    "    relogio.tick(30)\n",
    "    tela.fill(FUNDO)\n",
    "    for evento in pygame.event.get():\n",
    "        if evento.type == QUIT:\n",
    "            rodando = False\n",
    "        # if evento.type == KEYDOWN:\n",
    "        #     if evento.key == K_w:\n",
    "        #         y -= 2\n",
    "        #     if evento.key == K_s:\n",
    "        #         y += 2\n",
    "        #     if evento.key == K_d:\n",
    "        #         x += 2\n",
    "        #     if evento.key == K_a:\n",
    "        #         x -= 2\n",
    "    \n",
    "    if pygame.key.get_pressed()[K_a]:\n",
    "        x -= 5\n",
    "    if pygame.key.get_pressed()[K_d]:\n",
    "        x += 5\n",
    "    if pygame.key.get_pressed()[K_w]:\n",
    "        y -= 5\n",
    "    if pygame.key.get_pressed()[K_s]:\n",
    "        y += 5\n",
    "\n",
    "    pygame.draw.rect(tela,VERMELHO,(x%largura,y%altura,40,40))\n",
    "\n",
    "    pygame.display.update()\n",
    "\n",
    "pygame.quit()"
   ]
  },
  {
   "attachments": {},
   "cell_type": "markdown",
   "metadata": {},
   "source": [
    "## Colidindo objetos"
   ]
  },
  {
   "cell_type": "code",
   "execution_count": 8,
   "metadata": {},
   "outputs": [
    {
     "data": {
      "text/plain": [
       "1680645259.6496592"
      ]
     },
     "execution_count": 8,
     "metadata": {},
     "output_type": "execute_result"
    }
   ],
   "source": [
    "time.time()"
   ]
  },
  {
   "cell_type": "code",
   "execution_count": 10,
   "metadata": {},
   "outputs": [],
   "source": [
    "semente = time.time()\n",
    "\n",
    "VERMELHO = (255,0,0)\n",
    "VERDE = (0,255,0)\n",
    "AMARELO = (255,255,0)\n",
    "AZUL = (0,0,255)\n",
    "FUNDO = (0,0,0)\n",
    "\n",
    "pygame.init()\n",
    "\n",
    "altura = 640\n",
    "largura = 800\n",
    "\n",
    "tela = pygame.display.set_mode((largura,altura))\n",
    "pygame.display.set_caption('Joguinho')\n",
    "relogio = pygame.time.Clock()\n",
    "\n",
    "x,y = (0,0)\n",
    "xo,yo = (largura/2,altura/2)\n",
    "\n",
    "rodando = True\n",
    "\n",
    "while rodando:\n",
    "    relogio.tick(30)\n",
    "    tela.fill(FUNDO)\n",
    "    for evento in pygame.event.get():\n",
    "        if evento.type == QUIT:\n",
    "            rodando = False\n",
    "        if evento.type == KEYDOWN:\n",
    "            if evento.key == K_ESCAPE:\n",
    "                rodando = False\n",
    "    \n",
    "    if pygame.key.get_pressed()[K_a]:\n",
    "        x -= 5\n",
    "    if pygame.key.get_pressed()[K_d]:\n",
    "        x += 5\n",
    "    if pygame.key.get_pressed()[K_w]:\n",
    "        y -= 5\n",
    "    if pygame.key.get_pressed()[K_s]:\n",
    "        y += 5\n",
    "\n",
    "    rect_obj = pygame.draw.rect(tela,AZUL,(xo,yo,50,50))\n",
    "    rect_move = pygame.draw.rect(tela,VERMELHO,(x,y,40,40))\n",
    "    x %= largura\n",
    "    y %= altura\n",
    "\n",
    "    if rect_move.colliderect(rect_obj):\n",
    "        xo = (semente+yo+xo*16507)%largura\n",
    "        yo = (semente+xo+yo*16507)%altura\n",
    "        \n",
    "    pygame.display.update()\n",
    "\n",
    "pygame.quit()"
   ]
  }
 ],
 "metadata": {
  "kernelspec": {
   "display_name": "Python 3",
   "language": "python",
   "name": "python3"
  },
  "language_info": {
   "codemirror_mode": {
    "name": "ipython",
    "version": 3
   },
   "file_extension": ".py",
   "mimetype": "text/x-python",
   "name": "python",
   "nbconvert_exporter": "python",
   "pygments_lexer": "ipython3",
   "version": "3.10.10"
  },
  "orig_nbformat": 4,
  "vscode": {
   "interpreter": {
    "hash": "4162ed54b4b6832ceefb1638bd30fe9753138b511789c97c7484eaa144448463"
   }
  }
 },
 "nbformat": 4,
 "nbformat_minor": 2
}
