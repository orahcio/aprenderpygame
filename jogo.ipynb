{
 "cells": [
  {
   "cell_type": "markdown",
   "metadata": {},
   "source": [
    "# Primeiro joguinho usando a _pygame_"
   ]
  },
  {
   "cell_type": "code",
   "execution_count": 1,
   "metadata": {
    "tags": []
   },
   "outputs": [
    {
     "name": "stdout",
     "output_type": "stream",
     "text": [
      "pygame 2.2.0 (SDL 2.26.4, Python 3.10.10)\n",
      "Hello from the pygame community. https://www.pygame.org/contribute.html\n"
     ]
    }
   ],
   "source": [
    "import pygame\n",
    "from pygame.locals import *\n",
    "from sys import exit\n",
    "from random import randint\n",
    "import time"
   ]
  },
  {
   "cell_type": "code",
   "execution_count": 2,
   "metadata": {},
   "outputs": [
    {
     "ename": "",
     "evalue": "",
     "output_type": "error",
     "traceback": [
      "\u001b[1;31mO Kernel falhou ao executar o código na célula atual ou em uma célula anterior. Examine o código nas células para identificar uma possível causa da falha. Clique <a href=\"https://aka.ms/vscodeJupyterKernelCrash\">aqui</a> para obter mais informações. Consulte o <a href='command:jupyter.viewOutput'>log</a> do Jupyter para obter mais detalhes."
     ]
    },
    {
     "ename": "",
     "evalue": "",
     "output_type": "error",
     "traceback": [
      "\u001b[1;31mCanceled future for execute_request message before replies were done"
     ]
    }
   ],
   "source": [
    "pygame.init()\n",
    "pygame.display.set_mode((300,300))\n",
    "pygame.quit()"
   ]
  },
  {
   "cell_type": "markdown",
   "metadata": {},
   "source": [
    "## Criando uma tela com título"
   ]
  },
  {
   "cell_type": "code",
   "execution_count": 2,
   "metadata": {
    "tags": []
   },
   "outputs": [
    {
     "ename": "",
     "evalue": "",
     "output_type": "error",
     "traceback": [
      "\u001b[1;31mO Kernel falhou ao executar o código na célula atual ou em uma célula anterior. Examine o código nas células para identificar uma possível causa da falha. Clique <a href=\"https://aka.ms/vscodeJupyterKernelCrash\">aqui</a> para obter mais informações. Consulte o <a href='command:jupyter.viewOutput'>log</a> do Jupyter para obter mais detalhes."
     ]
    },
    {
     "ename": "",
     "evalue": "",
     "output_type": "error",
     "traceback": [
      "\u001b[1;31mCanceled future for execute_request message before replies were done"
     ]
    }
   ],
   "source": [
    "pygame.init()\n",
    "\n",
    "altura = 640\n",
    "largura = 800\n",
    "\n",
    "tela = pygame.display.set_mode((largura,altura))\n",
    "# pygame.display.set_caption('Joguinho')\n",
    "\n",
    "rodando = True\n",
    "# while rodando:\n",
    "#     for evento in pygame.event.get():\n",
    "#         if evento.type == QUIT:\n",
    "#             rodando = False\n",
    "#     # pygame.display.flip()\n",
    "\n",
    "# pygame.quit()"
   ]
  },
  {
   "cell_type": "markdown",
   "metadata": {},
   "source": [
    "## Desenhando formas simples"
   ]
  },
  {
   "cell_type": "code",
   "execution_count": 6,
   "metadata": {},
   "outputs": [],
   "source": [
    "VERMELHO = (255,0,0)\n",
    "VERDE = (0,255,0)\n",
    "AMARELO = (255,255,0)\n",
    "AZUL = (0,0,255)\n",
    "\n",
    "pygame.init()\n",
    "\n",
    "altura = 640\n",
    "largura = 800\n",
    "\n",
    "tela = pygame.display.set_mode((largura,altura))\n",
    "pygame.display.set_caption('Joguinho')\n",
    "\n",
    "rodando = True\n",
    "\n",
    "while rodando:\n",
    "    for evento in pygame.event.get():\n",
    "        if evento.type == QUIT:\n",
    "            rodando = False\n",
    "    pygame.draw.rect(tela,VERMELHO,(10,10,20,40))\n",
    "    pygame.draw.circle(tela,AZUL,(50,60),30)\n",
    "    pygame.draw.line(tela,AMARELO,(320,0),(320,640),3)\n",
    "    pygame.display.update()\n",
    "\n",
    "pygame.quit()"
   ]
  },
  {
   "cell_type": "markdown",
   "metadata": {},
   "source": [
    "## Dando movimento aos objetos"
   ]
  },
  {
   "cell_type": "code",
   "execution_count": 13,
   "metadata": {},
   "outputs": [],
   "source": [
    "VERMELHO = (255,0,0)\n",
    "VERDE = (0,255,0)\n",
    "AMARELO = (255,255,0)\n",
    "AZUL = (0,0,255)\n",
    "FUNDO = (0,0,0)\n",
    "\n",
    "pygame.init()\n",
    "\n",
    "altura = 640\n",
    "largura = 800\n",
    "\n",
    "tela = pygame.display.set_mode((largura,altura))\n",
    "pygame.display.set_caption('Joguinho')\n",
    "relogio = pygame.time.Clock()\n",
    "\n",
    "x,y = (400,0)\n",
    "\n",
    "rodando = True\n",
    "\n",
    "while rodando:\n",
    "    relogio.tick(30)\n",
    "    tela.fill(FUNDO)\n",
    "    for evento in pygame.event.get():\n",
    "        if evento.type == QUIT:\n",
    "            rodando = False\n",
    "    pygame.draw.rect(tela,VERMELHO,(x,y,20,40))\n",
    "    y = (y+2)%altura\n",
    "    \n",
    "    pygame.display.update()\n",
    "\n",
    "pygame.quit()"
   ]
  },
  {
   "cell_type": "markdown",
   "metadata": {},
   "source": [
    "## Controlando objetos com o teclado"
   ]
  },
  {
   "cell_type": "code",
   "execution_count": 18,
   "metadata": {},
   "outputs": [],
   "source": [
    "VERMELHO = (255,0,0)\n",
    "VERDE = (0,255,0)\n",
    "AMARELO = (255,255,0)\n",
    "AZUL = (0,0,255)\n",
    "FUNDO = (0,0,0)\n",
    "\n",
    "pygame.init()\n",
    "\n",
    "altura = 640\n",
    "largura = 800\n",
    "\n",
    "tela = pygame.display.set_mode((largura,altura))\n",
    "pygame.display.set_caption('Joguinho')\n",
    "relogio = pygame.time.Clock()\n",
    "\n",
    "x,y = (largura/2,altura/2)\n",
    "\n",
    "rodando = True\n",
    "\n",
    "while rodando:\n",
    "    relogio.tick(30)\n",
    "    tela.fill(FUNDO)\n",
    "    for evento in pygame.event.get():\n",
    "        if evento.type == QUIT:\n",
    "            rodando = False\n",
    "        # if evento.type == KEYDOWN:\n",
    "        #     if evento.key == K_w:\n",
    "        #         y -= 2\n",
    "        #     if evento.key == K_s:\n",
    "        #         y += 2\n",
    "        #     if evento.key == K_d:\n",
    "        #         x += 2\n",
    "        #     if evento.key == K_a:\n",
    "        #         x -= 2\n",
    "    \n",
    "    if pygame.key.get_pressed()[K_a]:\n",
    "        x -= 5\n",
    "    if pygame.key.get_pressed()[K_d]:\n",
    "        x += 5\n",
    "    if pygame.key.get_pressed()[K_w]:\n",
    "        y -= 5\n",
    "    if pygame.key.get_pressed()[K_s]:\n",
    "        y += 5\n",
    "\n",
    "    pygame.draw.rect(tela,VERMELHO,(x%largura,y%altura,40,40))\n",
    "\n",
    "    pygame.display.update()\n",
    "\n",
    "pygame.quit()"
   ]
  },
  {
   "cell_type": "markdown",
   "metadata": {},
   "source": [
    "## Colidindo objetos"
   ]
  },
  {
   "cell_type": "code",
   "execution_count": 8,
   "metadata": {},
   "outputs": [
    {
     "data": {
      "text/plain": [
       "1680645259.6496592"
      ]
     },
     "execution_count": 8,
     "metadata": {},
     "output_type": "execute_result"
    }
   ],
   "source": [
    "time.time()"
   ]
  },
  {
   "cell_type": "code",
   "execution_count": 12,
   "metadata": {},
   "outputs": [],
   "source": [
    "semente = time.time()\n",
    "\n",
    "VERMELHO = (255,0,0)\n",
    "VERDE = (0,255,0)\n",
    "AMARELO = (255,255,0)\n",
    "AZUL = (0,0,255)\n",
    "FUNDO = (0,0,0)\n",
    "\n",
    "pygame.init()\n",
    "\n",
    "altura = 640\n",
    "largura = 800\n",
    "\n",
    "tela = pygame.display.set_mode((largura,altura))\n",
    "pygame.display.set_caption('Joguinho')\n",
    "relogio = pygame.time.Clock()\n",
    "\n",
    "x,y = (0,0)\n",
    "xo,yo = (largura/2,altura/2)\n",
    "\n",
    "rodando = True\n",
    "\n",
    "while rodando:\n",
    "    relogio.tick(30)\n",
    "    tela.fill(FUNDO)\n",
    "    for evento in pygame.event.get():\n",
    "        if evento.type == QUIT:\n",
    "            rodando = False\n",
    "        if evento.type == KEYDOWN:\n",
    "            if evento.key == K_ESCAPE:\n",
    "                rodando = False\n",
    "    \n",
    "    if pygame.key.get_pressed()[K_a]:\n",
    "        x -= 5\n",
    "    if pygame.key.get_pressed()[K_d]:\n",
    "        x += 5\n",
    "    if pygame.key.get_pressed()[K_w]:\n",
    "        y -= 5\n",
    "    if pygame.key.get_pressed()[K_s]:\n",
    "        y += 5\n",
    "\n",
    "    rect_obj = pygame.draw.rect(tela,AZUL,(xo,yo,50,50))\n",
    "    rect_move = pygame.draw.rect(tela,VERMELHO,(x,y,40,40))\n",
    "    x %= largura\n",
    "    y %= altura\n",
    "\n",
    "    if rect_move.colliderect(rect_obj):\n",
    "        xo = (semente+yo+xo*16507)%largura\n",
    "        yo = (semente+xo+yo*16507)%altura\n",
    "        \n",
    "    pygame.display.update()\n",
    "\n",
    "pygame.quit()"
   ]
  },
  {
   "cell_type": "markdown",
   "metadata": {},
   "source": [
    "# Jogo da cobrinha"
   ]
  },
  {
   "cell_type": "code",
   "execution_count": 3,
   "metadata": {
    "tags": []
   },
   "outputs": [],
   "source": [
    "\n",
    "VERMELHO = (255,0,0)\n",
    "VERDE = (0,255,0)\n",
    "AMARELO = (255,255,0)\n",
    "AZUL = (0,0,255)\n",
    "FUNDO = (255,255,255)\n",
    "\n",
    "pygame.init()\n",
    "\n",
    "altura = 640\n",
    "largura = 800\n",
    "\n",
    "tela = pygame.display.set_mode((largura,altura))\n",
    "pygame.display.set_caption('Joguinho da cobrinha')\n",
    "relogio = pygame.time.Clock()\n",
    "\n",
    "\n",
    "cabeca = Rect(largura/2,altura/2,20,20)\n",
    "maca = Rect(randint(20,largura-20),randint(20,altura-20),20,20)\n",
    "cobra = []\n",
    "compr = 1\n",
    "s = 20\n",
    "controle = {K_w: (0,-s),\n",
    "            K_s: (0,s),\n",
    "            K_a: (-s,0),\n",
    "            K_d: (s,0)}\n",
    "\n",
    "x,y = (0,0)\n",
    "v = (s,0)\n",
    "\n",
    "rodando = True\n",
    "\n",
    "while rodando:\n",
    "    relogio.tick(5)\n",
    "    tela.fill(FUNDO)\n",
    "    corpo = cabeca.copy()\n",
    "    for evento in pygame.event.get():\n",
    "        if evento.type == QUIT:\n",
    "            rodando = False\n",
    "        if evento.type == KEYDOWN:\n",
    "            if evento.key == K_ESCAPE:\n",
    "                rodando = False\n",
    "            if evento.key in controle:\n",
    "                x,y = v\n",
    "                xn,yn = controle[evento.key]\n",
    "                escalar = (x*xn+y*yn)/(s*s)\n",
    "                escalar *= escalar\n",
    "                v = (x-xn)*escalar+xn, (y-yn)*escalar+yn\n",
    "    cabeca.move_ip(v)\n",
    "    if (cabeca.x,cabeca.y) in cobra:\n",
    "        rodando = False\n",
    "    cobra.append((cabeca.x,cabeca.y))\n",
    "    for c in cobra:\n",
    "        pygame.draw.rect(tela,VERDE,(c[0],c[1],20,20))\n",
    "        \n",
    "    rect_obj = pygame.draw.rect(tela,VERMELHO,maca)\n",
    "    cabeca.x %= largura\n",
    "    cabeca.y %= altura\n",
    "    if cabeca.colliderect(maca):\n",
    "        maca.x = randint(20,largura-20)\n",
    "        maca.y = randint(20,altura-20)\n",
    "        compr += 3\n",
    "\n",
    "    if len(cobra) > compr:\n",
    "        cobra.pop(0)\n",
    "    pygame.display.flip()\n",
    "\n",
    "pygame.quit()"
   ]
  },
  {
   "cell_type": "markdown",
   "metadata": {},
   "source": [
    "# Joguinho da cobra com matriz"
   ]
  },
  {
   "cell_type": "code",
   "execution_count": null,
   "metadata": {},
   "outputs": [],
   "source": [
    "def convert_tela(i,j):\n",
    "    return (i%32)*20, (j%40)*20\n",
    "\n",
    "VERMELHO = (255,0,0)\n",
    "VERDE = (0,255,0)\n",
    "AMARELO = (255,255,0)\n",
    "AZUL = (0,0,255)\n",
    "FUNDO = (255,255,255)\n",
    "\n",
    "pygame.init()\n",
    "\n",
    "altura = 640\n",
    "largura = 800\n",
    "\n",
    "tela = pygame.display.set_mode((largura,altura))\n",
    "pygame.display.set_caption('Joguinho da cobrinha')\n",
    "relogio = pygame.time.Clock()\n",
    "\n",
    "\n",
    "cabeca = Rect(largura/2,altura/2,20,20)\n",
    "maca = Rect(randint(20,largura-20),randint(20,altura-20),20,20)\n",
    "cobra = []\n",
    "compr = 1\n",
    "s = 1\n",
    "controle = {K_w: (0,-s),\n",
    "            K_s: (0,s),\n",
    "            K_a: (-s,0),\n",
    "            K_d: (s,0)}\n",
    "\n",
    "x,y = (0,0)\n",
    "i,j = (0,0)\n",
    "v = (s,0)\n",
    "\n",
    "rodando = True\n",
    "\n",
    "while rodando:\n",
    "    relogio.tick(30)\n",
    "    tela.fill(FUNDO)\n",
    "    corpo = cabeca.copy()\n",
    "    for evento in pygame.event.get():\n",
    "        if evento.type == QUIT:\n",
    "            rodando = False\n",
    "        if evento.type == KEYDOWN:\n",
    "            if evento.key == K_ESCAPE:\n",
    "                rodando = False\n",
    "            if evento.key in controle:\n",
    "                x,y = v\n",
    "                xn,yn = controle[evento.key]\n",
    "                escalar = (x*xn+y*yn)/(s*s)\n",
    "                escalar *= escalar\n",
    "                v = (x-xn)*escalar+xn, (y-yn)*escalar+yn\n",
    "    i,j = i+v[0],j+v[1]\n",
    "    V = convert_tela(v[0],v[1])\n",
    "    V = cabeca.x\n",
    "    cabeca.move_ip(convert_tela(v[0],v[1]))\n",
    "    if (cabeca.x,cabeca.y) in cobra:\n",
    "        rodando = False\n",
    "    cobra.append((cabeca.x,cabeca.y))\n",
    "    for c in cobra:\n",
    "        pygame.draw.rect(tela,VERDE,(c[0],c[1],20,20))\n",
    "        \n",
    "    rect_obj = pygame.draw.rect(tela,VERMELHO,maca)\n",
    "    cabeca.x %= largura\n",
    "    cabeca.y %= altura\n",
    "    if cabeca.colliderect(maca):\n",
    "        maca.x = randint(20,largura-20)\n",
    "        maca.y = randint(20,altura-20)\n",
    "        compr += 3\n",
    "\n",
    "    if len(cobra) > compr:\n",
    "        cobra.pop(0)\n",
    "    pygame.display.flip()\n",
    "\n",
    "pygame.quit()"
   ]
  },
  {
   "cell_type": "code",
   "execution_count": 5,
   "metadata": {},
   "outputs": [
    {
     "data": {
      "text/plain": [
       "(32.0, 40.0)"
      ]
     },
     "execution_count": 5,
     "metadata": {},
     "output_type": "execute_result"
    }
   ],
   "source": [
    "640/20, 800/20"
   ]
  },
  {
   "cell_type": "markdown",
   "metadata": {},
   "source": [
    "Teremos uma matriz 40x32 em que a cobreinha poderá andar numa tela de 800x640, então precisamos converter os índices da matriz menor nos índices de pixel da tela"
   ]
  },
  {
   "cell_type": "code",
   "execution_count": 11,
   "metadata": {},
   "outputs": [
    {
     "name": "stdout",
     "output_type": "stream",
     "text": [
      "0 0 0 0 0 0 0 0 0 0 0 0 0 0 0 0 0 0 0 0 0 0 0 0 0 0 0 0 0 0 0 0 0 0 0 0 0 0 0 0 \n",
      "0 0 0 0 0 0 0 0 0 0 0 0 0 0 0 0 0 0 0 0 0 0 0 0 0 0 0 0 0 0 0 0 0 0 0 0 0 0 0 0 \n",
      "0 0 0 0 0 0 0 0 0 0 0 0 0 0 0 0 0 0 0 0 0 0 0 0 0 0 0 0 0 0 0 0 0 0 0 0 0 0 0 0 \n",
      "0 0 0 0 0 0 0 0 0 0 0 0 0 0 0 0 0 0 0 0 0 0 0 0 0 0 0 0 0 0 0 0 0 0 0 0 0 0 0 0 \n",
      "0 0 0 0 0 0 0 0 0 0 0 0 0 0 0 0 0 0 0 0 0 0 0 0 0 0 0 0 0 0 0 0 0 0 0 0 0 0 0 0 \n",
      "0 0 0 0 0 0 0 0 0 0 0 0 0 0 0 0 0 0 0 0 0 0 0 0 0 0 0 0 0 0 0 0 0 0 0 0 0 0 0 0 \n",
      "0 0 0 0 0 0 0 0 0 0 0 0 0 0 0 0 0 0 0 0 0 0 0 0 0 0 0 0 0 0 0 0 0 0 0 0 0 0 0 0 \n",
      "0 0 0 0 0 0 0 0 0 0 0 0 0 0 0 0 0 0 0 0 0 0 0 0 0 0 0 0 0 0 0 0 0 0 0 0 0 0 0 0 \n",
      "0 0 0 0 0 0 0 0 0 0 0 0 0 0 0 0 0 0 0 0 0 0 0 0 0 0 0 0 0 0 0 0 0 0 0 0 0 0 0 0 \n",
      "0 0 0 0 0 0 0 0 0 0 0 0 0 0 0 0 0 0 0 0 0 0 0 0 0 0 0 0 0 0 0 0 0 0 0 0 0 0 0 0 \n",
      "0 0 0 0 0 0 0 0 0 0 0 0 0 0 0 0 0 0 0 0 0 0 0 0 0 0 0 0 0 0 0 0 0 0 0 0 0 0 0 0 \n",
      "0 0 0 0 0 0 0 0 0 0 0 0 0 0 0 0 0 0 0 0 0 0 0 0 0 0 0 0 0 0 0 0 0 0 0 0 0 0 0 0 \n",
      "0 0 0 0 0 0 0 0 0 0 0 0 0 0 0 0 0 0 0 0 0 0 0 0 0 0 0 0 0 0 0 0 0 0 0 0 0 0 0 0 \n",
      "0 0 0 0 0 0 0 0 0 0 0 0 0 0 0 0 0 0 0 0 0 0 0 0 0 0 0 0 0 0 0 0 0 0 0 0 0 0 0 0 \n",
      "0 0 0 0 0 0 0 0 0 0 0 0 0 0 0 0 0 0 0 0 0 0 0 0 0 0 0 0 0 0 0 0 0 0 0 0 0 0 0 0 \n",
      "0 0 0 0 0 0 0 0 0 0 0 0 0 0 0 0 0 0 0 0 0 0 0 0 0 0 0 0 0 0 0 0 0 0 0 0 0 0 0 0 \n",
      "0 0 0 0 0 0 0 0 0 0 0 0 0 0 0 0 0 0 0 0 0 0 0 0 0 0 0 0 0 0 0 0 0 0 0 0 0 0 0 0 \n",
      "0 0 0 0 0 0 0 0 0 0 0 0 0 0 0 0 0 0 0 0 0 0 0 0 0 0 0 0 0 0 0 0 0 0 0 0 0 0 0 0 \n",
      "0 0 0 0 0 0 0 0 0 0 0 0 0 0 0 0 0 0 0 0 0 0 0 0 0 0 0 0 0 0 0 0 0 0 0 0 0 0 0 0 \n",
      "0 0 0 0 0 0 0 0 0 0 0 0 0 0 0 0 0 0 0 0 0 0 0 0 0 0 0 0 0 0 0 0 0 0 0 0 0 0 0 0 \n",
      "0 0 0 0 0 0 0 0 0 0 0 0 0 0 0 0 0 0 0 0 0 0 0 0 0 0 0 0 0 0 0 0 0 0 0 0 0 0 0 0 \n",
      "0 0 0 0 0 0 0 0 0 0 0 0 0 0 0 0 0 0 0 0 0 0 0 0 0 0 0 0 0 0 0 0 0 0 0 0 0 0 0 0 \n",
      "0 0 0 0 0 0 0 0 0 0 0 0 0 0 0 0 0 0 0 0 0 0 0 0 0 0 0 0 0 0 0 0 0 0 0 0 0 0 0 0 \n",
      "0 0 0 0 0 0 0 0 0 0 0 0 0 0 0 0 0 0 0 0 0 0 0 0 0 0 0 0 0 0 0 0 0 0 0 0 0 0 0 0 \n",
      "0 0 0 0 0 0 0 0 0 0 0 0 0 0 0 0 0 0 0 0 0 0 0 0 0 0 0 0 0 0 0 0 0 0 0 0 0 0 0 0 \n",
      "0 0 0 0 0 0 0 0 0 0 0 0 0 0 0 0 0 0 0 0 0 0 0 0 0 0 0 0 0 0 0 0 0 0 0 0 0 0 0 0 \n",
      "0 0 0 0 0 0 0 0 0 0 0 0 0 0 0 0 0 0 0 0 0 0 0 0 0 0 0 0 0 0 0 0 0 0 0 0 0 0 0 0 \n",
      "0 0 0 0 0 0 0 0 0 0 0 0 0 0 0 0 0 0 0 0 0 0 0 0 0 0 0 0 0 0 0 0 0 0 0 0 0 0 0 0 \n",
      "0 0 0 0 0 0 0 0 0 0 0 0 0 0 0 0 0 0 0 0 0 0 0 0 0 0 0 0 0 0 0 0 0 0 0 0 0 0 0 0 \n",
      "0 0 0 0 0 0 0 0 0 0 0 0 0 0 0 0 0 0 0 0 0 0 0 0 0 0 0 0 0 0 0 0 0 0 0 0 0 0 0 0 \n",
      "0 0 0 0 0 0 0 0 0 0 0 0 0 0 0 0 0 0 0 0 0 0 0 0 0 0 0 0 0 0 0 0 0 0 0 0 0 0 0 0 \n",
      "0 0 0 0 0 0 0 0 0 0 0 0 0 0 0 0 0 0 0 0 0 0 0 0 0 0 0 0 0 0 0 0 0 0 0 0 0 0 0 0 \n"
     ]
    }
   ],
   "source": [
    "matriz = []\n",
    "for i in range(32):\n",
    "    matriz.append([])\n",
    "    for j in range(40):\n",
    "        matriz[i].append(0)\n",
    "\n",
    "def convert_tela(i,j):\n",
    "    return i*20, j*20\n",
    "\n",
    "for i in range(32):\n",
    "    for j in range(40):\n",
    "        print(matriz[i][j],end=\" \")\n",
    "    print(\"\")"
   ]
  },
  {
   "cell_type": "code",
   "execution_count": 14,
   "metadata": {},
   "outputs": [
    {
     "data": {
      "text/plain": [
       "(620, 600)"
      ]
     },
     "execution_count": 14,
     "metadata": {},
     "output_type": "execute_result"
    }
   ],
   "source": [
    "convert_tela(31,30)"
   ]
  },
  {
   "cell_type": "code",
   "execution_count": 22,
   "metadata": {},
   "outputs": [
    {
     "name": "stdout",
     "output_type": "stream",
     "text": [
      "1 1\n"
     ]
    }
   ],
   "source": [
    "i,j = 0,0\n",
    "i,j = i+1,j+1\n",
    "print(i,j)"
   ]
  },
  {
   "cell_type": "code",
   "execution_count": null,
   "metadata": {},
   "outputs": [],
   "source": []
  }
 ],
 "metadata": {
  "kernelspec": {
   "display_name": "Python 3 (ipykernel)",
   "language": "python",
   "name": "python3"
  },
  "language_info": {
   "codemirror_mode": {
    "name": "ipython",
    "version": 3
   },
   "file_extension": ".py",
   "mimetype": "text/x-python",
   "name": "python",
   "nbconvert_exporter": "python",
   "pygments_lexer": "ipython3",
   "version": "3.10.10"
  },
  "vscode": {
   "interpreter": {
    "hash": "4162ed54b4b6832ceefb1638bd30fe9753138b511789c97c7484eaa144448463"
   }
  }
 },
 "nbformat": 4,
 "nbformat_minor": 4
}
